{
 "cells": [
  {
   "cell_type": "code",
   "execution_count": 3,
   "id": "df3410ef",
   "metadata": {},
   "outputs": [
    {
     "name": "stdout",
     "output_type": "stream",
     "text": [
      "   Age     Type  Year  Movie_watched_month  Snacks_popcorn  Total  YEAR\n",
      "1   43  Diamond     3                   10            7.98  47.98  2022\n",
      "5   35  Diamond     8                    2            6.86  14.86  2023\n",
      "6   53   Silver     9                   10            4.21  44.21  2021\n",
      "7   33   Silver     4                   12            4.37  52.37  2023\n",
      "8   37   Silver     1                    2            3.32  11.32  2023\n"
     ]
    },
    {
     "name": "stderr",
     "output_type": "stream",
     "text": [
      "<>:5: SyntaxWarning: invalid escape sequence '\\C'\n",
      "<>:5: SyntaxWarning: invalid escape sequence '\\C'\n",
      "C:\\Users\\Admin\\AppData\\Local\\Temp\\ipykernel_3444\\2866236406.py:5: SyntaxWarning: invalid escape sequence '\\C'\n",
      "  df = pd.read_csv('d:\\CSB21\\project ckhoa\\cinema_customers_expanded.csv')\n"
     ]
    }
   ],
   "source": [
    "import pandas as pd\n",
    "import numpy as np\n",
    "\n",
    "# Đọc file CSV đã upload\n",
    "df = pd.read_csv('d:\\CSB21\\project ckhoa\\cinema_customers_expanded.csv')\n",
    "\n",
    "# Lọc bỏ các dòng có Type là \"non member\"\n",
    "df = df[df[\"Type\"] != \"Non-member\"]\n",
    "\n",
    "# Chuyển các cột số về dạng số\n",
    "numeric_cols = ['Movie_watched_month', 'Snacks_popcorn', 'Total']\n",
    "df[numeric_cols] = df[numeric_cols].apply(pd.to_numeric, errors='coerce')\n",
    "\n",
    "df_clean = df.dropna(subset=numeric_cols + ['Type'])\n",
    "\n",
    "np.random.seed(42)\n",
    "df_clean['YEAR'] = np.random.choice(range(2019, 2025), size=len(df_clean))\n",
    "\n",
    "# Xem kết quả\n",
    "print(df_clean.head())\n"
   ]
  },
  {
   "cell_type": "code",
   "execution_count": null,
   "id": "9c043655",
   "metadata": {},
   "outputs": [],
   "source": []
  }
 ],
 "metadata": {
  "kernelspec": {
   "display_name": "base",
   "language": "python",
   "name": "python3"
  },
  "language_info": {
   "codemirror_mode": {
    "name": "ipython",
    "version": 3
   },
   "file_extension": ".py",
   "mimetype": "text/x-python",
   "name": "python",
   "nbconvert_exporter": "python",
   "pygments_lexer": "ipython3",
   "version": "3.12.4"
  }
 },
 "nbformat": 4,
 "nbformat_minor": 5
}
